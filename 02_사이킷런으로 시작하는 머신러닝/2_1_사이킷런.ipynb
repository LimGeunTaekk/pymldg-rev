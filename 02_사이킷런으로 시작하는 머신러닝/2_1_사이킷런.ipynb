{
  "nbformat": 4,
  "nbformat_minor": 0,
  "metadata": {
    "colab": {
      "name": "2_1_사이킷런.ipynb",
      "provenance": [],
      "collapsed_sections": [],
      "authorship_tag": "ABX9TyM6R9vChIS7ZgDCIT49y9LS",
      "include_colab_link": true
    },
    "kernelspec": {
      "name": "python3",
      "display_name": "Python 3"
    },
    "language_info": {
      "name": "python"
    }
  },
  "cells": [
    {
      "cell_type": "markdown",
      "metadata": {
        "id": "view-in-github",
        "colab_type": "text"
      },
      "source": [
        "<a href=\"https://colab.research.google.com/github/LimGuenTaek/pymldg-rev/blob/main/02_%EC%82%AC%EC%9D%B4%ED%82%B7%EB%9F%B0%EC%9C%BC%EB%A1%9C%20%EC%8B%9C%EC%9E%91%ED%95%98%EB%8A%94%20%EB%A8%B8%EC%8B%A0%EB%9F%AC%EB%8B%9D/2_1_%EC%82%AC%EC%9D%B4%ED%82%B7%EB%9F%B0.ipynb\" target=\"_parent\"><img src=\"https://colab.research.google.com/assets/colab-badge.svg\" alt=\"Open In Colab\"/></a>"
      ]
    },
    {
      "cell_type": "markdown",
      "metadata": {
        "id": "i4TOdRNcCvvh"
      },
      "source": [
        "# 사이킷 런(sckit-learn)\n",
        "\n",
        "* 사이킷런(scikit-learn)은 파이썬 머신러닝 라이브러리 중 가장 많이 사용되는 라이브러리 입니다.\n",
        "\n",
        "* 파이썬 기반의 머신러닝은 곧 사이킷런으로 개발하는 것을 의미할 정도로 오랜 기간 파이썬 세계에서 인정 받았으며 , 사이킷런은 파이썬 기반의 머신러닝을 위한 가장 쉽고 효율적인 개발 라이브러리를 제공합니다.\n",
        "\n",
        "\n",
        "1. 파이썬 기반의 다른 머신러닝 패키지도 사이킷런 스타일의 API를 지향할 정도로 쉽고 가장 파이썬스러운 API를 제공합니다.\n",
        "\n",
        "2. 머신러닝을 위한 매우 다양한 알고리즘과 개발을 위한 편리한 프레임워크와 API를 제공합니다.\n",
        "\n",
        "3. 오랜 기간 실전 환경에서 검증 됐으며 , 매우 많은 환경에서 사용하는 성숙한 라이브러리 입니다."
      ]
    },
    {
      "cell_type": "markdown",
      "metadata": {
        "id": "icipOqBLDn2R"
      },
      "source": [
        "## 첫 번째 머신러닝 만들어 보기 - 붓꽃 품종 예측하기\n",
        "\n",
        "* 붓꽃 데이터 세트는 꽃잎의 길이와 너비 , 꽃 받침의 길이와 너비 특징(feature)를 기반으로 꽃의 품종을 예측하기 위한 것입니다.\n",
        "\n",
        "* 분류(Classification)은 대표적인 지도학습(Supervised Learning)방법의 하나입니다.\n",
        "\n",
        "* 지도학습을 위한 다양한 피처와 분류 결정값인 레이블(Label)데이터로 모델을 학습한 뒤 , 별도의 테스트 데이터 세트에서 미지의 레이블을 예측합니다.\n",
        "\n",
        "* **즉 , 지도학습은 명확한 정답이 주어진 데이터를 먼저 학습한 뒤 미지의 정답을 예측하는 방식입니다.**"
      ]
    },
    {
      "cell_type": "markdown",
      "metadata": {
        "id": "2lt_xIYBJhQB"
      },
      "source": [
        "1. sklearn.datasets : 사이킷런 자체적으로 제공하는 데이터 세트를 생성하는 Module의 모임\n",
        "\n",
        "2. sklearn.tree : 트리 기반 ML 알고리즘을 구현한 클래스의 모임\n",
        "\n",
        "3. sklearn.model_selection : 학습 데이터와 검증 데이터 , 예측 데이터로 데이터를 분리하거나 최적의 하이퍼 파라미터로 평가하기 위한 다양한 모듈의 모임"
      ]
    },
    {
      "cell_type": "code",
      "metadata": {
        "id": "4e8fxJ-QJ6c3"
      },
      "source": [
        "from sklearn.datasets import load_iris\n",
        "from sklearn.tree import DecisionTreeClassifier\n",
        "from sklearn.model_selection import train_test_split\n",
        "import pandas as pd\n",
        "import numpy as np"
      ],
      "execution_count": 1,
      "outputs": []
    },
    {
      "cell_type": "code",
      "metadata": {
        "colab": {
          "base_uri": "https://localhost:8080/",
          "height": 204
        },
        "id": "brs1HZDrKVdX",
        "outputId": "cda6226a-9aa6-484f-bb56-a0a64f775b5f"
      },
      "source": [
        "iris = load_iris()\n",
        "\n",
        "iris_df=pd.DataFrame(data=iris.data,columns=iris.feature_names)\n",
        "iris_df['label']=iris.target\n",
        "\n",
        "iris_df.head(5)"
      ],
      "execution_count": 2,
      "outputs": [
        {
          "output_type": "execute_result",
          "data": {
            "text/html": [
              "<div>\n",
              "<style scoped>\n",
              "    .dataframe tbody tr th:only-of-type {\n",
              "        vertical-align: middle;\n",
              "    }\n",
              "\n",
              "    .dataframe tbody tr th {\n",
              "        vertical-align: top;\n",
              "    }\n",
              "\n",
              "    .dataframe thead th {\n",
              "        text-align: right;\n",
              "    }\n",
              "</style>\n",
              "<table border=\"1\" class=\"dataframe\">\n",
              "  <thead>\n",
              "    <tr style=\"text-align: right;\">\n",
              "      <th></th>\n",
              "      <th>sepal length (cm)</th>\n",
              "      <th>sepal width (cm)</th>\n",
              "      <th>petal length (cm)</th>\n",
              "      <th>petal width (cm)</th>\n",
              "      <th>label</th>\n",
              "    </tr>\n",
              "  </thead>\n",
              "  <tbody>\n",
              "    <tr>\n",
              "      <th>0</th>\n",
              "      <td>5.1</td>\n",
              "      <td>3.5</td>\n",
              "      <td>1.4</td>\n",
              "      <td>0.2</td>\n",
              "      <td>0</td>\n",
              "    </tr>\n",
              "    <tr>\n",
              "      <th>1</th>\n",
              "      <td>4.9</td>\n",
              "      <td>3.0</td>\n",
              "      <td>1.4</td>\n",
              "      <td>0.2</td>\n",
              "      <td>0</td>\n",
              "    </tr>\n",
              "    <tr>\n",
              "      <th>2</th>\n",
              "      <td>4.7</td>\n",
              "      <td>3.2</td>\n",
              "      <td>1.3</td>\n",
              "      <td>0.2</td>\n",
              "      <td>0</td>\n",
              "    </tr>\n",
              "    <tr>\n",
              "      <th>3</th>\n",
              "      <td>4.6</td>\n",
              "      <td>3.1</td>\n",
              "      <td>1.5</td>\n",
              "      <td>0.2</td>\n",
              "      <td>0</td>\n",
              "    </tr>\n",
              "    <tr>\n",
              "      <th>4</th>\n",
              "      <td>5.0</td>\n",
              "      <td>3.6</td>\n",
              "      <td>1.4</td>\n",
              "      <td>0.2</td>\n",
              "      <td>0</td>\n",
              "    </tr>\n",
              "  </tbody>\n",
              "</table>\n",
              "</div>"
            ],
            "text/plain": [
              "   sepal length (cm)  sepal width (cm)  ...  petal width (cm)  label\n",
              "0                5.1               3.5  ...               0.2      0\n",
              "1                4.9               3.0  ...               0.2      0\n",
              "2                4.7               3.2  ...               0.2      0\n",
              "3                4.6               3.1  ...               0.2      0\n",
              "4                5.0               3.6  ...               0.2      0\n",
              "\n",
              "[5 rows x 5 columns]"
            ]
          },
          "metadata": {
            "tags": []
          },
          "execution_count": 2
        }
      ]
    },
    {
      "cell_type": "markdown",
      "metadata": {
        "id": "YtZQqzlXK4a6"
      },
      "source": [
        "* Feature는 4가지 이며(sepal length , sepal width , petal length , petal width) , 레이블은 0 , 1 , 2 (Setosa , versicolor , virginica) 세가지 값으로 존재합니다.\n",
        "\n",
        "* 다음으로 학습용 데이터와 데스트용 데이터를 분리하겠습니다. 학습용 데이터와 테스트용 데이터는 반드시 분리해야 합니다.\n",
        "\n",
        "* 이를 위해서 사이킷런은 **sklearn.model_selection.train_test_split()** API를 제공합니다."
      ]
    },
    {
      "cell_type": "code",
      "metadata": {
        "id": "yiBVjpYrK3zR"
      },
      "source": [
        "iris_data=np.array(iris_df.iloc[:,:-1])\n",
        "iris_label=np.array(iris_df.iloc[:,-1])\n",
        "\n",
        "train_data , test_data , train_label , test_label = train_test_split(iris_data,iris_label,test_size=0.3,random_state=11,stratify=iris_label)"
      ],
      "execution_count": 3,
      "outputs": []
    },
    {
      "cell_type": "markdown",
      "metadata": {
        "id": "mm5Erp3gNFEH"
      },
      "source": [
        "* test_size : train 70% , test 30% 비율로 분할하겠다는 의미\n",
        "\n",
        "* stratify : label 값을 기준으로 골고루 분배하겠다는 의미 (상당히 중요)"
      ]
    },
    {
      "cell_type": "markdown",
      "metadata": {
        "id": "QJzr6EZrOkHe"
      },
      "source": [
        "* 이제 , 의사결정트리 알고리즘으로 분류를 진행해보겠습니다.\n",
        "\n",
        "* .fit() , .predict() 메소드를 이용하면 train과 prediction을 진행할 수 있습니다.\n",
        "\n",
        "* 예측한 결과화 test_label을 비교함으로 써 정확도를 측정할 수 있습니다."
      ]
    },
    {
      "cell_type": "code",
      "metadata": {
        "colab": {
          "base_uri": "https://localhost:8080/"
        },
        "id": "lUpJVyHfNn8M",
        "outputId": "11af6d13-6304-4c00-8142-56ebdff2acf9"
      },
      "source": [
        "clf=DecisionTreeClassifier(random_state=11)\n",
        "clf.fit(train_data,train_label)\n",
        "predict=clf.predict(test_data)\n",
        "\n",
        "print(\"예측 정확도 : {0:.4f}\".format(np.mean(predict==test_label)))"
      ],
      "execution_count": 4,
      "outputs": [
        {
          "output_type": "stream",
          "text": [
            "예측 정확도 : 0.9778\n"
          ],
          "name": "stdout"
        }
      ]
    },
    {
      "cell_type": "markdown",
      "metadata": {
        "id": "00e_HbtSO4JP"
      },
      "source": [
        "1. **데이터 세트 분리** : 데이터를 학습 데이터와 테스트 데이터로 분리합니다.\n",
        "\n",
        "2. **모델 학습** : 학습 데이터를 기반으로 ML 알고리즘을 적용해 모델을 학습 시킵니다.\n",
        "\n",
        "3. **예측 수행**: 학습된 ML 모델을 이용해 테스트 데이터의 분류(붓꽃 종류 분류)를 예측합니다.\n",
        "\n",
        "4. **평가**: 이렇게 예측된 결괏값과 테스트 데이터의 실제 결괏값을 비교해 ML 모델 성능을 평가합니다."
      ]
    },
    {
      "cell_type": "markdown",
      "metadata": {
        "id": "lhcHivbYPTjb"
      },
      "source": [
        "## 사이킷런의 기반 프레임워크 익히기\n",
        "\n",
        "#### Estimator 이해 및 .fit() predict() 메소드\n",
        "\n",
        "* 사이킷런은 **모델 학습을 위해서 fit()을** , **학습된 모델의 예측을 위해 predict()** 메소드를 제공합니다.\n",
        "\n",
        "* 지도학습의 주요 두 축인 **분류(Classification)**과 **회귀(Regression)**의 다양한 알고리즘을 구현한 모든 사이킷런 클래스는 fit() 과 predict() 만을 이용해 간단하게 학습과 예측 결과를 반환합니다.\n",
        "\n",
        "* 사이킷런은 매우 많은 유형의 Classifier와 Regressor 클래스를 제공합니다. 이들 클래스를 모두 합쳐서 Estimator 클래스라고 부릅니다.\n",
        "\n",
        "* 즉 , 지도학습의 모든 알고리즘을 구현한 클래스를 통칭해서 **Estimator**라고 부릅니다.\n",
        "\n",
        "* **cross_val_score()**와 같은 evaluation 함수 , **GridSearchCV**와 같은 하이퍼 파라미터 튜닝을 지원하는 클래스의 경우 **Estimator**를 인자로 받습니다.\n",
        "\n",
        "* 사이킷런에서 **비지도학습인 차원 축소 , 클러스터링 , 피처 추출** 등을 구현한 클래스 역시 대부분 fit()과 transform()을 적용합니다.\n",
        "\n",
        "* 하지만 비지도학습에서 fit()은 학습을 의미하는 것이 아니라 , 입력 데이터의 형태에 맞춰 데이터를 변환하기 위한 사전 구조를 맞추는 작업입니다.\n",
        "\n",
        "* **fit()으로 변환을 위한 사전 구조를 맞추면** 이후 입력 데이터의 차원 변환 , 클러스터링 , 피처 추출 등의 **실제 작업은 transform()으로 수행**합니다."
      ]
    },
    {
      "cell_type": "markdown",
      "metadata": {
        "id": "DUJ6JOfaWoXl"
      },
      "source": [
        "## Model Selection 모듈 소개\n",
        "\n",
        "* 사이킷런의 Model_selection 모듈은 학습 데이터와 테스트 데이터 세트를 분리하거나 교차 검증 분할 및 평가 , 그리고 Estimator의 하이퍼 파라미터를 튜닝하기 위한 다양한 함수와 클래스를 제공합니다.\n"
      ]
    },
    {
      "cell_type": "markdown",
      "metadata": {
        "id": "sPyJc0yeYcAQ"
      },
      "source": [
        "### 학습/테스트 데이터 세트 분리 - train_test_split()\n",
        "\n",
        "* 먼저 , sklearn.model_selection 모듈에서 train_test_split()을 로드해줍니다.\n",
        "\n",
        "* train_test_split()는 첫 번째 파라미터로 **피처 데이터 세트** , 두 번째 파라미터로 **레이블 데이터 세트**를 입력 받습니다.\n",
        "\n",
        "* 그리고 선택적으로 다음 파라미터를 입력받습니다.\n",
        "\n",
        "  1. test_size : 전체 데이터 세트에서 테스트 세트 크기를 얼마로 샘플링할 것인가를 결정합니다.\n",
        "\n",
        "  2. shuffle : 데이터를 분산시켜서 좀 더 효율적인 학습 및 테스트 데이터 세트를 만드는 데 사용됩니다.\n",
        "\n",
        "  3. random_state : 호출할 때마다 동일한 학습/테스트용 데이터 세트를 생성하기 위해 주어지는 난수 값입니다.\n",
        "\n",
        "  4. stratify : train 이나 test 데이터 세트에 특정 label들이 몰리지 않도록 설정해줍니다."
      ]
    },
    {
      "cell_type": "code",
      "metadata": {
        "id": "QbQEvhckYesU"
      },
      "source": [
        "from sklearn.datasets import load_iris\n",
        "from sklearn.model_selection import train_test_split\n",
        "\n",
        "iris = load_iris()\n",
        "\n",
        "iris_df=pd.DataFrame(data=iris.data,columns=iris.feature_names)\n",
        "iris_df['label']=iris.target\n",
        "\n",
        "iris_data=np.array(iris_df.iloc[:,:-1])\n",
        "iris_label=np.array(iris_df.iloc[:,-1])\n",
        "\n",
        "train_data , test_data , train_label , test_label = train_test_split(iris_data,iris_label,test_size=0.3,random_state=11,stratify=iris_label)"
      ],
      "execution_count": 5,
      "outputs": []
    },
    {
      "cell_type": "markdown",
      "metadata": {
        "id": "XNf5OgHhYqfH"
      },
      "source": [
        "### 교차 검증\n",
        "\n",
        "* 앞에서 알고리즘을 학습시키는 학습 데이터와 이에 대한 예측 성능을 평가하기 위한 별도의 테스트 데이터가 필요하다고 말했습니다.\n",
        "\n",
        "* 하지만 이 방법 역시 과적합(Overfitting)에 취약한 약점을 가질 수 있습니다.\n",
        "\n",
        "* 과적합은 모델이 학습 데이터에만 과도하게 최적화되어 , 실제 예측을 다른 데이터로 수행할 경우에는 예측 성능이 과도하게 떨어지는 것을 말합니다.\n",
        "\n",
        "* 이러한 문제점을 개선하기 위해 교차 검증을 이용해 다양한 학습과 평가를 수행합니다.\n",
        "\n",
        "* 비유하자면 본고사를 치르기 전에 모의고사를 여러 번 보는 것입니다.\n",
        "\n",
        "* 교차 검증은 데이터의 편중을 막기 위해서 별도의 여러 세트로 구성된 학습 데이터 세트와 검증 데이터 세트에서 학습과 평가를 수행하는 것입니다.\n",
        "\n",
        "**K 폴드 교차 검증**\n",
        "\n",
        "* K 폴드 교차 검증은 가장 보편적으로 사용되는 교차 검증 기법입니다.\n",
        "\n",
        "* 먼저 K개의 데이터 폴드 세트를 만들어서 K번 만큼 각 폴드 세트에 학습과 검증 평가를 반복적으로 수행하는 방법입니다.\n",
        "\n",
        "* K개의 폴드된 데이터 세트를 학습과 검증을 위한 데이터 세트로 변경하면서 K번 평가를 수행한 뒤 , 이 K개의 평가를 평균한 결과를 가지고 예측 성능을 평가합니다.\n",
        "\n",
        "* 사이킷런에서는 K폴드 교차 검증 프로세스를 구현하기 위해 K Fold와 StratifiedKFold 클래스를 제공합니다.\n"
      ]
    },
    {
      "cell_type": "code",
      "metadata": {
        "colab": {
          "base_uri": "https://localhost:8080/"
        },
        "id": "wBlGrDusb48O",
        "outputId": "89ad87a8-a34e-4a5c-e05d-b69e88907977"
      },
      "source": [
        "from sklearn.tree import DecisionTreeClassifier\n",
        "from sklearn.metrics import accuracy_score\n",
        "from sklearn.model_selection import KFold\n",
        "import numpy as np\n",
        "\n",
        "iris = load_iris()\n",
        "features = iris.data\n",
        "label = iris.target\n",
        "dt_clf = DecisionTreeClassifier(random_state=156)\n",
        "\n",
        "# 5개의 폴드 세트로 분리하는 KFold 객체와 폴드 세트별 정확도를 담을 리스트 객체 생성.\n",
        "kfold = KFold(n_splits=5)\n",
        "cv_accuracy = []\n",
        "print('붓꽃 데이터 세트 크기:',features.shape[0])\n",
        "\n",
        "n_iter = 0\n",
        "\n",
        "# KFold객체의 split( ) 호출하면 폴드 별 학습용, 검증용 테스트의 로우 인덱스를 array로 반환  \n",
        "for train_index, test_index  in kfold.split(features):\n",
        "    # kfold.split( )으로 반환된 인덱스를 이용하여 학습용, 검증용 테스트 데이터 추출\n",
        "    X_train, X_test = features[train_index], features[test_index]\n",
        "    y_train, y_test = label[train_index], label[test_index]\n",
        "    \n",
        "    #학습 및 예측 \n",
        "    dt_clf.fit(X_train , y_train)    \n",
        "    pred = dt_clf.predict(X_test)\n",
        "    n_iter += 1\n",
        "    \n",
        "    # 반복 시 마다 정확도 측정 \n",
        "    accuracy = np.round(accuracy_score(y_test,pred), 4)\n",
        "    train_size = X_train.shape[0]\n",
        "    test_size = X_test.shape[0]\n",
        "    print('\\n#{0} 교차 검증 정확도 :{1}, 학습 데이터 크기: {2}, 검증 데이터 크기: {3}'\n",
        "          .format(n_iter, accuracy, train_size, test_size))\n",
        "    print('#{0} 검증 세트 인덱스:{1}'.format(n_iter,test_index))\n",
        "    \n",
        "    cv_accuracy.append(accuracy)\n",
        "    \n",
        "# 개별 iteration별 정확도를 합하여 평균 정확도 계산 \n",
        "print('\\n## 평균 검증 정확도:', np.mean(cv_accuracy))"
      ],
      "execution_count": 6,
      "outputs": [
        {
          "output_type": "stream",
          "text": [
            "붓꽃 데이터 세트 크기: 150\n",
            "\n",
            "#1 교차 검증 정확도 :1.0, 학습 데이터 크기: 120, 검증 데이터 크기: 30\n",
            "#1 검증 세트 인덱스:[ 0  1  2  3  4  5  6  7  8  9 10 11 12 13 14 15 16 17 18 19 20 21 22 23\n",
            " 24 25 26 27 28 29]\n",
            "\n",
            "#2 교차 검증 정확도 :0.9667, 학습 데이터 크기: 120, 검증 데이터 크기: 30\n",
            "#2 검증 세트 인덱스:[30 31 32 33 34 35 36 37 38 39 40 41 42 43 44 45 46 47 48 49 50 51 52 53\n",
            " 54 55 56 57 58 59]\n",
            "\n",
            "#3 교차 검증 정확도 :0.8667, 학습 데이터 크기: 120, 검증 데이터 크기: 30\n",
            "#3 검증 세트 인덱스:[60 61 62 63 64 65 66 67 68 69 70 71 72 73 74 75 76 77 78 79 80 81 82 83\n",
            " 84 85 86 87 88 89]\n",
            "\n",
            "#4 교차 검증 정확도 :0.9333, 학습 데이터 크기: 120, 검증 데이터 크기: 30\n",
            "#4 검증 세트 인덱스:[ 90  91  92  93  94  95  96  97  98  99 100 101 102 103 104 105 106 107\n",
            " 108 109 110 111 112 113 114 115 116 117 118 119]\n",
            "\n",
            "#5 교차 검증 정확도 :0.7333, 학습 데이터 크기: 120, 검증 데이터 크기: 30\n",
            "#5 검증 세트 인덱스:[120 121 122 123 124 125 126 127 128 129 130 131 132 133 134 135 136 137\n",
            " 138 139 140 141 142 143 144 145 146 147 148 149]\n",
            "\n",
            "## 평균 검증 정확도: 0.9\n"
          ],
          "name": "stdout"
        }
      ]
    },
    {
      "cell_type": "markdown",
      "metadata": {
        "id": "edwxPHaw9ekM"
      },
      "source": [
        "**Stratified K 폴드**\n",
        "\n",
        "* Stratified K 폴드는 **불균형한(imbalanced)** 분포도를 가진 레이블 데이터 집합을 위한 K 폴드 방식입니다.\n",
        "\n",
        "* 불균형한 분포도를 가진 레이블 데이터 집합은 특정 레이블 값이 특이하게 많거나 매우 적어서 값의 분포가 한쪽으로 치우치는 것을 말합니다.\n",
        "\n",
        "* 원본 데이터가 불균형한 분포도를 가질때 학습/테스트 데이터로 Split할때 데이터가 **편향될** 위험이 존재합니다.\n",
        "\n",
        "* 따라서 원본 데이터와 유사한 분포를 학습/테스트 데이터에 유지시켜주는 것은 중요한데 Stratifed K 폴드가 이러한 문제를 해결해줍니다.\n",
        "\n",
        "* K Fold방식과 유사하지만 큰 차이점은 StratifiedKFold는 레이블 데이터 분포도에 따라 학습/검증 데이터를 나누기 때문에 **split() 메소드에 인자로 피처 데이터 세트뿐만 아니라 레이블 데이터 세트도 반드시 필요하다는** 사실입니다.\n",
        "\n",
        "* Stratified K 폴드의 경우 원본 데이터의 레이블 분포도 특성을 반영한 학습 및 검증 데이터 세트를 만들 수 있으므로 애곡된 레이블 데이터 세트에서는 반드시 Stratified K 폴드를 이용해 교차 검증을 해야 합니다.\n",
        "\n",
        "* **사실 일반적으로 분류에서의 교차검증은 K 폴드가 아니라 Stratified K 폴드를 사용해서 분할돼야 합니다.**"
      ]
    },
    {
      "cell_type": "code",
      "metadata": {
        "id": "DYxCNjVkfZqF",
        "colab": {
          "base_uri": "https://localhost:8080/"
        },
        "outputId": "a3a53424-5898-420b-d23f-bf893d4655e2"
      },
      "source": [
        "from sklearn.model_selection import StratifiedKFold\n",
        "\n",
        "skf = StratifiedKFold(n_splits=3)\n",
        "n_iter=0\n",
        "\n",
        "for train_index, test_index in skf.split(iris_df, iris_df['label']):\n",
        "    n_iter += 1\n",
        "    label_train= iris_df['label'].iloc[train_index]\n",
        "    label_test= iris_df['label'].iloc[test_index]\n",
        "    print('## 교차 검증: {0}'.format(n_iter))\n",
        "    print('학습 레이블 데이터 분포:\\n', label_train.value_counts())\n",
        "    print('검증 레이블 데이터 분포:\\n', label_test.value_counts())"
      ],
      "execution_count": 7,
      "outputs": [
        {
          "output_type": "stream",
          "text": [
            "## 교차 검증: 1\n",
            "학습 레이블 데이터 분포:\n",
            " 2    34\n",
            "1    33\n",
            "0    33\n",
            "Name: label, dtype: int64\n",
            "검증 레이블 데이터 분포:\n",
            " 1    17\n",
            "0    17\n",
            "2    16\n",
            "Name: label, dtype: int64\n",
            "## 교차 검증: 2\n",
            "학습 레이블 데이터 분포:\n",
            " 1    34\n",
            "2    33\n",
            "0    33\n",
            "Name: label, dtype: int64\n",
            "검증 레이블 데이터 분포:\n",
            " 2    17\n",
            "0    17\n",
            "1    16\n",
            "Name: label, dtype: int64\n",
            "## 교차 검증: 3\n",
            "학습 레이블 데이터 분포:\n",
            " 0    34\n",
            "2    33\n",
            "1    33\n",
            "Name: label, dtype: int64\n",
            "검증 레이블 데이터 분포:\n",
            " 2    17\n",
            "1    17\n",
            "0    16\n",
            "Name: label, dtype: int64\n"
          ],
          "name": "stdout"
        }
      ]
    },
    {
      "cell_type": "code",
      "metadata": {
        "colab": {
          "base_uri": "https://localhost:8080/"
        },
        "id": "MqnSRBc89cMY",
        "outputId": "0cabf0d5-426d-4703-aecb-59b88a4f538f"
      },
      "source": [
        "\n",
        "dt_clf = DecisionTreeClassifier(random_state=156)\n",
        "\n",
        "skfold = StratifiedKFold(n_splits=3)\n",
        "n_iter=0\n",
        "cv_accuracy=[]\n",
        "\n",
        "# StratifiedKFold의 split( ) 호출시 반드시 레이블 데이터 셋도 추가 입력 필요  \n",
        "for train_index, test_index  in skfold.split(features, label):\n",
        "    # split( )으로 반환된 인덱스를 이용하여 학습용, 검증용 테스트 데이터 추출\n",
        "    X_train, X_test = features[train_index], features[test_index]\n",
        "    y_train, y_test = label[train_index], label[test_index]\n",
        "    #학습 및 예측 \n",
        "    dt_clf.fit(X_train , y_train)    \n",
        "    pred = dt_clf.predict(X_test)\n",
        "\n",
        "    # 반복 시 마다 정확도 측정 \n",
        "    n_iter += 1\n",
        "    accuracy = np.round(accuracy_score(y_test,pred), 4)\n",
        "    train_size = X_train.shape[0]\n",
        "    test_size = X_test.shape[0]\n",
        "    print('\\n#{0} 교차 검증 정확도 :{1}, 학습 데이터 크기: {2}, 검증 데이터 크기: {3}'\n",
        "          .format(n_iter, accuracy, train_size, test_size))\n",
        "    print('#{0} 검증 세트 인덱스:{1}'.format(n_iter,test_index))\n",
        "    cv_accuracy.append(accuracy)\n",
        "    \n",
        "# 교차 검증별 정확도 및 평균 정확도 계산 \n",
        "print('\\n## 교차 검증별 정확도:', np.round(cv_accuracy, 4))\n",
        "print('## 평균 검증 정확도:', np.mean(cv_accuracy))"
      ],
      "execution_count": 8,
      "outputs": [
        {
          "output_type": "stream",
          "text": [
            "\n",
            "#1 교차 검증 정확도 :0.98, 학습 데이터 크기: 100, 검증 데이터 크기: 50\n",
            "#1 검증 세트 인덱스:[  0   1   2   3   4   5   6   7   8   9  10  11  12  13  14  15  16  50\n",
            "  51  52  53  54  55  56  57  58  59  60  61  62  63  64  65  66 100 101\n",
            " 102 103 104 105 106 107 108 109 110 111 112 113 114 115]\n",
            "\n",
            "#2 교차 검증 정확도 :0.94, 학습 데이터 크기: 100, 검증 데이터 크기: 50\n",
            "#2 검증 세트 인덱스:[ 17  18  19  20  21  22  23  24  25  26  27  28  29  30  31  32  33  67\n",
            "  68  69  70  71  72  73  74  75  76  77  78  79  80  81  82 116 117 118\n",
            " 119 120 121 122 123 124 125 126 127 128 129 130 131 132]\n",
            "\n",
            "#3 교차 검증 정확도 :0.98, 학습 데이터 크기: 100, 검증 데이터 크기: 50\n",
            "#3 검증 세트 인덱스:[ 34  35  36  37  38  39  40  41  42  43  44  45  46  47  48  49  83  84\n",
            "  85  86  87  88  89  90  91  92  93  94  95  96  97  98  99 133 134 135\n",
            " 136 137 138 139 140 141 142 143 144 145 146 147 148 149]\n",
            "\n",
            "## 교차 검증별 정확도: [0.98 0.94 0.98]\n",
            "## 평균 검증 정확도: 0.9666666666666667\n"
          ],
          "name": "stdout"
        }
      ]
    },
    {
      "cell_type": "markdown",
      "metadata": {
        "id": "lwmx9k83_KPd"
      },
      "source": [
        "**교차 검증을 보다 간편하게 - cross_val_scroe()**\n",
        "\n",
        "* 사이킷런은 교차 검증을 좀 더 편리하게 수행할 수 있게 해주는 API를 제공합니다.\n",
        "\n",
        "* 대표적인 것이 cross_val_score()입니다.\n",
        "\n",
        "* 앞에서 진행했던 K-Fold의 과정들을 한꺼번에 수행해주는 API 입니다.\n",
        "\n",
        "* cross_val_score(estimator , X , y=None , scroing = None , cv = None , n_jobs = 1 , verbose = 0 , fit_params = None , pre_dispatch = 2*n_jobs)\n",
        "\n",
        "  * estimator는 분류 알고리즘 클래스인 Classifier 또는 회귀 알고리즘인 Regressor 클래스\n",
        "  * X는 Feature 데이터 세트\n",
        "  * y는 레이블 데이터 세트\n",
        "  * scroing 은 예측 성능 평가 지표를 기술\n",
        "  * cv는 교차 검증 폴드 수를 의미합니다.\n",
        "\n",
        "* cross_val_score()는 내부적으로 StratifiedKFold를 수행합니다."
      ]
    },
    {
      "cell_type": "code",
      "metadata": {
        "colab": {
          "base_uri": "https://localhost:8080/"
        },
        "id": "EfCgsGdMaajZ",
        "outputId": "55af1170-a901-4988-a763-0eda41db33e6"
      },
      "source": [
        "from sklearn.tree import DecisionTreeClassifier\n",
        "from sklearn.model_selection import cross_val_score , cross_validate\n",
        "from sklearn.datasets import load_iris\n",
        "\n",
        "iris_data=load_iris()\n",
        "dt_clf=DecisionTreeClassifier()\n",
        "\n",
        "data=iris_data.data\n",
        "label=iris_data.target\n",
        "\n",
        "scores=cross_val_score(dt_clf,data,label,scoring='accuracy',cv=3)\n",
        "print(\"교차 검증별 정확도 : {}\".format(np.round(scores,4)))\n",
        "print(\"평균 검증 정확도 : {}\".format(np.round(np.mean(scores),4)))"
      ],
      "execution_count": 11,
      "outputs": [
        {
          "output_type": "stream",
          "text": [
            "교차 검증별 정확도 : [0.98 0.94 1.  ]\n",
            "교차 검증별 정확도 : 0.9733\n"
          ],
          "name": "stdout"
        }
      ]
    },
    {
      "cell_type": "markdown",
      "metadata": {
        "id": "GqNdV3Olbqde"
      },
      "source": [
        "### GridSearchCV - 교차 검증과 하이퍼 파라미터 튜닝을 한번에\n",
        "\n",
        "* 하이퍼 파라미터는 머신러닝 알고리즘을 구성하는 주요 구성 요소이며 , 이 값을 조정해 알고리즘의 예측 성능을 개선할 수 있습니다.\n",
        "\n",
        "* 사이킷런은 GridSearchCV API를 이용해 Classifier나 Regressor와 같은 알고리즘에 사용되는 하이퍼 파라미터를 순차적으로 입력하면서 편리하게 파라미터를 도출할 수 있는 방안을 제공합니다.\n",
        "\n",
        "* GridSearchCV는 사용자가 튜닝하고자 하는 여러 종류의 하이퍼 파라미터를 다양하게 테스트하면서 **최적의 파라미터를 편리하게 찾게 해주지만 동시에 순차적으로 파라미터를 테스트하므로 수행시간이 상대적으로 오래 걸리는 것에 유념해야 합니다.**\n",
        "\n",
        "* GridSearchCV의 주요 파라미터는 다음과 같습니다.\n",
        "\n",
        "  * **estimator** : classifier , regressor , pipeline이 사용될 수 있습니다.\n",
        "\n",
        "  * **param_grid** : key + 리스트 값을 가지는 딕셔너리가 주어집니다. estimator의 튜닝을 위해 파라미터명과 사용될 여러 파라미터값을 지정합니다.\n",
        "\n",
        "  * **scoring** : 예측 성능을 측정할 평가 방법을 지정합니다. 보통은 사이킷런의 성능 평가 지표를 지정하는 문자열('accuracy')로 지정하나 별도의 성능 평가 지표 함수도 지정할 수 있습니다.\n",
        "\n",
        "  * **cv** : 교차 검증을 위해 분할되는 학습/테스트 세트의 갯수를 지정합니다.\n",
        "\n",
        "  * **refit** : default가 True이며 , True로 생성 시 가장 최적의 하이퍼 파라미터를 찾은 뒤 입력된 estimator 객체를 해당 하이퍼 파라미터로 재학습 시킵니다."
      ]
    },
    {
      "cell_type": "code",
      "metadata": {
        "id": "g_I4OQV4p65F"
      },
      "source": [
        "from sklearn.datasets import load_iris\n",
        "from sklearn.tree import DecisionTreeClassifier\n",
        "from sklearn.model_selection import GridSearchCV , train_test_split\n",
        "from sklearn.metrics import accuracy_score\n",
        "\n",
        "iris_data=load_iris()\n",
        "\n",
        "train_data,test_data,train_label,test_label = train_test_split(iris_data.data,iris_data.target,test_size=0.2,random_state=11,stratify=iris_data.target)\n",
        "\n",
        "tree_clf=DecisionTreeClassifier()\n",
        "\n",
        "param={\"max_depth\":[1,2,3],\"min_samples_split\":[2,3]}\n",
        "\n",
        "grid_tree=GridSearchCV(tree_clf,param,cv=3,refit=True)"
      ],
      "execution_count": 27,
      "outputs": []
    },
    {
      "cell_type": "markdown",
      "metadata": {
        "id": "LJs7L_JQrubx"
      },
      "source": [
        "* cv_results_는 gridsearchcv의 결과 세트로서 딕셔너리 형태로 key 값과 리스트 형태의 value 값을 가집니다.\n",
        "\n",
        "* cv_results_는 Pandas의 DataFrame으로 변환하면 내용을 좀 더 쉽게 볼 수 있습니다.\n",
        "\n",
        "* 이 중 주요 칼럼만 발췌해서 어떻게 GridSearchCV가 동작하는지 좀 더 자세히 알아보겠습니다."
      ]
    },
    {
      "cell_type": "code",
      "metadata": {
        "colab": {
          "base_uri": "https://localhost:8080/",
          "height": 235
        },
        "id": "sayxK3FMsO6U",
        "outputId": "f88b0505-e608-4002-d0d9-a762ef8c52d2"
      },
      "source": [
        "grid_tree.fit(train_data,train_label)\n",
        "\n",
        "scores_df=pd.DataFrame(grid_tree.cv_results_)\n",
        "\n",
        "scores_df[['params','mean_test_score','rank_test_score',]]"
      ],
      "execution_count": 28,
      "outputs": [
        {
          "output_type": "execute_result",
          "data": {
            "text/html": [
              "<div>\n",
              "<style scoped>\n",
              "    .dataframe tbody tr th:only-of-type {\n",
              "        vertical-align: middle;\n",
              "    }\n",
              "\n",
              "    .dataframe tbody tr th {\n",
              "        vertical-align: top;\n",
              "    }\n",
              "\n",
              "    .dataframe thead th {\n",
              "        text-align: right;\n",
              "    }\n",
              "</style>\n",
              "<table border=\"1\" class=\"dataframe\">\n",
              "  <thead>\n",
              "    <tr style=\"text-align: right;\">\n",
              "      <th></th>\n",
              "      <th>params</th>\n",
              "      <th>mean_test_score</th>\n",
              "      <th>rank_test_score</th>\n",
              "    </tr>\n",
              "  </thead>\n",
              "  <tbody>\n",
              "    <tr>\n",
              "      <th>0</th>\n",
              "      <td>{'max_depth': 1, 'min_samples_split': 2}</td>\n",
              "      <td>0.658333</td>\n",
              "      <td>5</td>\n",
              "    </tr>\n",
              "    <tr>\n",
              "      <th>1</th>\n",
              "      <td>{'max_depth': 1, 'min_samples_split': 3}</td>\n",
              "      <td>0.658333</td>\n",
              "      <td>5</td>\n",
              "    </tr>\n",
              "    <tr>\n",
              "      <th>2</th>\n",
              "      <td>{'max_depth': 2, 'min_samples_split': 2}</td>\n",
              "      <td>0.916667</td>\n",
              "      <td>3</td>\n",
              "    </tr>\n",
              "    <tr>\n",
              "      <th>3</th>\n",
              "      <td>{'max_depth': 2, 'min_samples_split': 3}</td>\n",
              "      <td>0.916667</td>\n",
              "      <td>3</td>\n",
              "    </tr>\n",
              "    <tr>\n",
              "      <th>4</th>\n",
              "      <td>{'max_depth': 3, 'min_samples_split': 2}</td>\n",
              "      <td>0.958333</td>\n",
              "      <td>1</td>\n",
              "    </tr>\n",
              "    <tr>\n",
              "      <th>5</th>\n",
              "      <td>{'max_depth': 3, 'min_samples_split': 3}</td>\n",
              "      <td>0.958333</td>\n",
              "      <td>1</td>\n",
              "    </tr>\n",
              "  </tbody>\n",
              "</table>\n",
              "</div>"
            ],
            "text/plain": [
              "                                     params  mean_test_score  rank_test_score\n",
              "0  {'max_depth': 1, 'min_samples_split': 2}         0.658333                5\n",
              "1  {'max_depth': 1, 'min_samples_split': 3}         0.658333                5\n",
              "2  {'max_depth': 2, 'min_samples_split': 2}         0.916667                3\n",
              "3  {'max_depth': 2, 'min_samples_split': 3}         0.916667                3\n",
              "4  {'max_depth': 3, 'min_samples_split': 2}         0.958333                1\n",
              "5  {'max_depth': 3, 'min_samples_split': 3}         0.958333                1"
            ]
          },
          "metadata": {
            "tags": []
          },
          "execution_count": 28
        }
      ]
    },
    {
      "cell_type": "markdown",
      "metadata": {
        "id": "NljGD2upsnvL"
      },
      "source": [
        "* params 칼럼에는 수행할 때마다 적용된 개별 하이퍼 파라미터 값을 나타냅니다.\n",
        "\n",
        "* rank_test_score는 하이퍼 파라미터별로 성능이 좋은 scroe 순위를 나타냅니다. 1이 가장 뛰어난 순위이며 이때의 파라미터가 최적의 하이퍼 파라미터 입니다.\n",
        "\n",
        "* mean_test_score는 개별 하이퍼 파라미터별로 CV의 폴딩 테스트 세트에 대해 총 수행한 평가 평균값입니다."
      ]
    },
    {
      "cell_type": "markdown",
      "metadata": {
        "id": "OPKgK7F-uPCy"
      },
      "source": [
        "* GridSearchCV 객체의 fit()을 수행하면 최고 성능을 나타낸 하이퍼 파라미터의 값과 그때의 평가 결과 값이 각각 **best_params_** , **best_score_**속성에 기록됩니다.\n",
        "\n",
        "* refit=True이면 , GridSearchCV가 최적 성능을 나타내는 하이퍼 파라미터로 Estimator를 학습해 **best_estimator_**로 저장합니다"
      ]
    },
    {
      "cell_type": "code",
      "metadata": {
        "colab": {
          "base_uri": "https://localhost:8080/"
        },
        "id": "3Ln-9Mdwu5Mq",
        "outputId": "ba0748ba-2657-4b80-f499-e20f31fb17c7"
      },
      "source": [
        "best_tree_clf=grid_tree.best_estimator_\n",
        "\n",
        "prediction=best_tree_clf.predict(test_data)\n",
        "\n",
        "print(accuracy_score(prediction,test_label))"
      ],
      "execution_count": 29,
      "outputs": [
        {
          "output_type": "stream",
          "text": [
            "1.0\n"
          ],
          "name": "stdout"
        }
      ]
    },
    {
      "cell_type": "markdown",
      "metadata": {
        "id": "KMt7jKGJvy06"
      },
      "source": [
        "## 데이터 전처리\n",
        "\n",
        "* 데이터 전처리(Data Preprocessing)은 ML 알고리즘 만큼 중요합니다.\n",
        "\n",
        "* ML 알고리즘은 데이터에 기반하고 있기 때문에 어떤 데이터를 입력으로 가지느냐에 따라 결과도 크게 달라질 수 있습니다.(Garbage In Garbage Out)\n",
        "\n",
        "1. 결손 값 즉 NaN , Null값은 허용되지 않습니다. 따라서 이러한 Null 값은 고정된 다른 값으로 변환해야 합니다.\n",
        "\n",
        "2. 사이킷런의 머신러닝 알고리즘은 문자열 값을 입력 값으로 혀용하지 않습니다."
      ]
    },
    {
      "cell_type": "markdown",
      "metadata": {
        "id": "5XqbDjVvwVaI"
      },
      "source": [
        "### 데이터 인코딩\n",
        "\n",
        "* 머신러닝을 위한 대표적인 인코딩 방식은 레이블 인코딩(Label Encoding)과 원-핫 인코딩(One Hot encoding)이 있습니다.\n",
        "\n",
        "* 먼저 레이블 인코딩은 카테고리 피처를 코드형 숫자 값으로 변환하는 것입니다.\n",
        "\n",
        "* 사이킷런의 레이블 인코딩은 LabelEncoder 클래스로 구현합니다. LabelEncoder를 객체로 생성한 후 fit()과 transform()을 호출해 레이블 인코딩을 수행합니다."
      ]
    },
    {
      "cell_type": "code",
      "metadata": {
        "colab": {
          "base_uri": "https://localhost:8080/"
        },
        "id": "lY5leNLp13vp",
        "outputId": "99448272-a5f1-4d0b-e564-7abe43c656a0"
      },
      "source": [
        "from sklearn.preprocessing import LabelEncoder\n",
        "\n",
        "items=['TV','냉장고','컴퓨터','옷장','침대','냉장고','옷장']\n",
        "encoder=LabelEncoder()\n",
        "\n",
        "encoder.fit(items)\n",
        "\n",
        "labels=encoder.transform(items)\n",
        "\n",
        "print(labels)\n",
        "print(encoder.classes_)"
      ],
      "execution_count": 40,
      "outputs": [
        {
          "output_type": "stream",
          "text": [
            "[0 1 4 2 3 1 2]\n",
            "['TV' '냉장고' '옷장' '침대' '컴퓨터']\n"
          ],
          "name": "stdout"
        }
      ]
    },
    {
      "cell_type": "markdown",
      "metadata": {
        "id": "xloLPmpN3d-A"
      },
      "source": [
        "* 레이블 인코딩은 간단하게 문자열 값을 숫자형 카테고리 값으로 변환합니다.\n",
        "\n",
        "* 하지만 레이블 인코딩이 일괄적인 숫자 값으로 변환이 되면서 몇몇 ML 알고리즘에는 이를 적용할 겨우 예측 성능이 떨어지는 경우가 발생할 수 있습니다.\n",
        "\n",
        "* 이는 숫자 값의 경우 크고 작음에 대한 특징이 작용하기 때문입니다 즉 , 특정 ML 알고리즘 에서 가중치가 더 크게 부여 되거나 더 중요하게 인식할 가능성이 발생합니다.\n",
        "\n",
        "* 이러한 특성 때문에 레이블 인코딩은 선형 회귀와 같은 ML 알고리즘에는 적용하지 않아야 합니다. 트리 계열의 알고리즘은 숫자의 이러한 특성을 반영하지 않으므로 레이블 인코딩도 별 문제는 없습니다.\n",
        "\n",
        "* 원-핫 인코딩(One-Hot Encoding)은 레이블 인코딩의 이러한 문제점을 해결하기 위한 인코딩 방식 입니다.\n",
        "\n",
        "* 원-핫 인코딩은 해당 고유 값에 매칭되는 피처만 1이 되고 나머지 피처는 0을 입력하는 특징을 가지고 있습니다.\n",
        "\n",
        "* 사이킷런에서 OneHotEncoder를 이용할 수 있지만 여기선 더 간단한 Panda의 get_dummies() API를 사용하겠습니다."
      ]
    },
    {
      "cell_type": "code",
      "metadata": {
        "colab": {
          "base_uri": "https://localhost:8080/",
          "height": 266
        },
        "id": "tzDUD2R14R2i",
        "outputId": "f8579cd0-d82b-4888-b72f-d802e4f45b4d"
      },
      "source": [
        "from sklearn.preprocessing import OneHotEncoder\n",
        "import pandas as pd\n",
        "\n",
        "df=pd.DataFrame({'item':['TV','냉장고','컴퓨터','옷장','침대','냉장고','옷장']})\n",
        "\n",
        "pd.get_dummies(df)"
      ],
      "execution_count": 41,
      "outputs": [
        {
          "output_type": "execute_result",
          "data": {
            "text/html": [
              "<div>\n",
              "<style scoped>\n",
              "    .dataframe tbody tr th:only-of-type {\n",
              "        vertical-align: middle;\n",
              "    }\n",
              "\n",
              "    .dataframe tbody tr th {\n",
              "        vertical-align: top;\n",
              "    }\n",
              "\n",
              "    .dataframe thead th {\n",
              "        text-align: right;\n",
              "    }\n",
              "</style>\n",
              "<table border=\"1\" class=\"dataframe\">\n",
              "  <thead>\n",
              "    <tr style=\"text-align: right;\">\n",
              "      <th></th>\n",
              "      <th>item_TV</th>\n",
              "      <th>item_냉장고</th>\n",
              "      <th>item_옷장</th>\n",
              "      <th>item_침대</th>\n",
              "      <th>item_컴퓨터</th>\n",
              "    </tr>\n",
              "  </thead>\n",
              "  <tbody>\n",
              "    <tr>\n",
              "      <th>0</th>\n",
              "      <td>1</td>\n",
              "      <td>0</td>\n",
              "      <td>0</td>\n",
              "      <td>0</td>\n",
              "      <td>0</td>\n",
              "    </tr>\n",
              "    <tr>\n",
              "      <th>1</th>\n",
              "      <td>0</td>\n",
              "      <td>1</td>\n",
              "      <td>0</td>\n",
              "      <td>0</td>\n",
              "      <td>0</td>\n",
              "    </tr>\n",
              "    <tr>\n",
              "      <th>2</th>\n",
              "      <td>0</td>\n",
              "      <td>0</td>\n",
              "      <td>0</td>\n",
              "      <td>0</td>\n",
              "      <td>1</td>\n",
              "    </tr>\n",
              "    <tr>\n",
              "      <th>3</th>\n",
              "      <td>0</td>\n",
              "      <td>0</td>\n",
              "      <td>1</td>\n",
              "      <td>0</td>\n",
              "      <td>0</td>\n",
              "    </tr>\n",
              "    <tr>\n",
              "      <th>4</th>\n",
              "      <td>0</td>\n",
              "      <td>0</td>\n",
              "      <td>0</td>\n",
              "      <td>1</td>\n",
              "      <td>0</td>\n",
              "    </tr>\n",
              "    <tr>\n",
              "      <th>5</th>\n",
              "      <td>0</td>\n",
              "      <td>1</td>\n",
              "      <td>0</td>\n",
              "      <td>0</td>\n",
              "      <td>0</td>\n",
              "    </tr>\n",
              "    <tr>\n",
              "      <th>6</th>\n",
              "      <td>0</td>\n",
              "      <td>0</td>\n",
              "      <td>1</td>\n",
              "      <td>0</td>\n",
              "      <td>0</td>\n",
              "    </tr>\n",
              "  </tbody>\n",
              "</table>\n",
              "</div>"
            ],
            "text/plain": [
              "   item_TV  item_냉장고  item_옷장  item_침대  item_컴퓨터\n",
              "0        1         0        0        0         0\n",
              "1        0         1        0        0         0\n",
              "2        0         0        0        0         1\n",
              "3        0         0        1        0         0\n",
              "4        0         0        0        1         0\n",
              "5        0         1        0        0         0\n",
              "6        0         0        1        0         0"
            ]
          },
          "metadata": {
            "tags": []
          },
          "execution_count": 41
        }
      ]
    },
    {
      "cell_type": "markdown",
      "metadata": {
        "id": "7md6MUnywW9s"
      },
      "source": [
        "### 피처 스케일링의 정규화\n",
        "\n",
        "#### StandardScaler\n",
        "\n",
        "* StandardScaler는 표준화를 쉽게 지원하기 위한 클래스입니다. 즉 , 개별 피처를 평균이 0이고 , 분산이 1 인 값으로 변환해줍니다.\n",
        "\n",
        "* 이렇게 가우시안 정규 분포를 가질 수 있도록 데이터를 변환 하는 것은 몇몇 알고리즘에서 매우 중요합니다.\n",
        "\n",
        "* 특히 사이킷런에서 rbf 커널을 사용하는 SVM , 선형회귀 , 로지스틱회귀는 데이터가 가우시안 분포를 가지고 있다고 가정하고 구현됐기 때문에 사전에 표준화를 적용하는 것은 예측 성능 향상에 중요한 요소가 될 수 있습니다.\n",
        "\n",
        "#### MinMaxScaler\n",
        "\n",
        "* MinMaxScaler는 데이터 값을 0과 1사이의 범위 값으로 변환합니다(음수 값이 있으면 -1에서 1값으로 변환합니다).\n",
        "\n",
        "* 데이터의 분포가 가우시안 분포가 아닐 경우에 Min,Max Scale을 적용해 볼 수 있습니다.\n"
      ]
    },
    {
      "cell_type": "code",
      "metadata": {
        "colab": {
          "base_uri": "https://localhost:8080/"
        },
        "id": "RuKVgj5wz_zD",
        "outputId": "dc2dae9e-1c81-421a-d5bd-97f40f58ab19"
      },
      "source": [
        "from sklearn.datasets import load_iris\n",
        "from sklearn.preprocessing import StandardScaler\n",
        "from sklearn.preprocessing import MinMaxScaler\n",
        "\n",
        "iris=load_iris()\n",
        "iris_data=iris.data\n",
        "\n",
        "standard=StandardScaler()\n",
        "minmax=MinMaxScaler()\n",
        "\n",
        "standard.fit(iris_data)\n",
        "minmax.fit(iris_data)\n",
        "\n",
        "iris_std=standard.transform(iris_data)\n",
        "iris_minmax=minmax.transform(iris_data)\n",
        "\n",
        "std_df=pd.DataFrame(data=iris_std,columns=iris.feature_names)\n",
        "minmax_df=pd.DataFrame(data=iris_minmax,columns=iris.feature_names)\n",
        "\n",
        "print(\"[Standard Scaled 된 데이터들의 평균,분산]\\n\")\n",
        "print(std_df.mean())\n",
        "print(std_df.std())\n",
        "\n",
        "print(\"\\n\\n[MinMax Scaled 된 데이터들의 최대,최소]\\n\")\n",
        "print(minmax_df.max())\n",
        "print(minmax_df.min())"
      ],
      "execution_count": 37,
      "outputs": [
        {
          "output_type": "stream",
          "text": [
            "[Standard Scaled 된 데이터들의 평균 분산]\n",
            "\n",
            "sepal length (cm)   -1.690315e-15\n",
            "sepal width (cm)    -1.842970e-15\n",
            "petal length (cm)   -1.698641e-15\n",
            "petal width (cm)    -1.409243e-15\n",
            "dtype: float64\n",
            "sepal length (cm)    1.00335\n",
            "sepal width (cm)     1.00335\n",
            "petal length (cm)    1.00335\n",
            "petal width (cm)     1.00335\n",
            "dtype: float64\n",
            "\n",
            "\n",
            "[MinMax Scaled 된 데이터들의 최대,최소]\n",
            "\n",
            "sepal length (cm)    1.0\n",
            "sepal width (cm)     1.0\n",
            "petal length (cm)    1.0\n",
            "petal width (cm)     1.0\n",
            "dtype: float64\n",
            "sepal length (cm)    0.0\n",
            "sepal width (cm)     0.0\n",
            "petal length (cm)    0.0\n",
            "petal width (cm)     0.0\n",
            "dtype: float64\n"
          ],
          "name": "stdout"
        }
      ]
    },
    {
      "cell_type": "markdown",
      "metadata": {
        "id": "UkgnTbuYwcLy"
      },
      "source": [
        "### 학습 데이터와 테스트 데이터의 스케일링 변환 시 유의점"
      ]
    },
    {
      "cell_type": "markdown",
      "metadata": {
        "id": "o9c9Bsk5wmpa"
      },
      "source": [
        "* StandardScaler나 MinMaxScaler와 같은 Scaler 객체를 이용해 데이터의 스케일링 변환시 fit() , transform() , fit_transform() 메소드를 이용합니다.\n",
        "\n",
        "* 여기서 중요한 것은 **Scaler 객체를 이용해 학습 데이터 세트로 fit()과 transform()을 적용하면 테스트 데이터로는 fit()을 하지 않고 , 학습 데이터 세트로 fit()을 수행한 결과를 이용해 transform()을 적용해야 한다는 것**\n",
        "\n",
        "* 그렇지 않고 테스트 데이터로 다시 새로운 스케일링 기준 정보를 만들게 되면 학습 데이터와 테스트 데이터의 스케일링 기준 정보가 서로 달라지기 때문에 올바른 예측 결과를 도출 하지 못할 수 있습니다.\n",
        "\n",
        "* fit_transform()은 fit()과 transform()을 순차적으로 수행하는 메소드이므로 학습 데이터에서는 상관없지만 테스트 데이터에서는 절대 사용해서는 안 됩니다."
      ]
    }
  ]
}