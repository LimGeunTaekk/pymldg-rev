{
  "nbformat": 4,
  "nbformat_minor": 0,
  "metadata": {
    "colab": {
      "name": "1-3.넘파이.ipynb",
      "provenance": [],
      "collapsed_sections": [],
      "authorship_tag": "ABX9TyPuj6nsAju3G9C6tO6xZdZf",
      "include_colab_link": true
    },
    "kernelspec": {
      "name": "python3",
      "display_name": "Python 3"
    }
  },
  "cells": [
    {
      "cell_type": "markdown",
      "metadata": {
        "id": "view-in-github",
        "colab_type": "text"
      },
      "source": [
        "<a href=\"https://colab.research.google.com/github/LimGuenTaek/pymldg-rev/blob/main/01_%ED%8C%8C%EC%9D%B4%EC%8D%AC%20%EA%B8%B0%EB%B0%98%EC%9D%98%20%EB%A8%B8%EC%8B%A0%EB%9F%AC%EB%8B%9D%EA%B3%BC%20%EC%83%9D%ED%83%9C%EA%B3%84%20%EC%9D%B4%ED%95%B4/1_3_%EB%84%98%ED%8C%8C%EC%9D%B4.ipynb\" target=\"_parent\"><img src=\"https://colab.research.google.com/assets/colab-badge.svg\" alt=\"Open In Colab\"/></a>"
      ]
    },
    {
      "cell_type": "markdown",
      "metadata": {
        "id": "Yp5dY_MMcgsG"
      },
      "source": [
        "# 넘파이(Numpy)\r\n",
        "\r\n",
        "* 머신러닝의 주요 알고리즘은 선형대수와 통계등에 기반합니다.\r\n",
        "\r\n",
        "* 특히 선형대수는 수학뿐만 아니라 다른 영역의 자연과학 , 공학에서 널리 사용되고 있습니다.\r\n",
        "\r\n",
        "* Numerical Python을 의미하는 넘파이(Numpy)는 파이썬에서 선형대수 기반의 프로그램을 쉽게 만들 수 있도록 지원하는 대표적인 패키지 입니다.\r\n",
        "\r\n",
        "* 루프를 사용하지 않고 대량 데이터의 배열 연산을 가능하게 하므로 빠른 배열 연산 속도를 보장합니다.\r\n",
        "\r\n",
        "* 많은 머신러닝 알고리즘이 넘파이 기반으로 작성돼 있음은 물론이고 , 이들 알고리즘의 입력 데이터와 출력 데이터를 넘파이 배열 타입으로 사용하고 있습니다.\r\n"
      ]
    },
    {
      "cell_type": "markdown",
      "metadata": {
        "id": "AtenmZpyhM_n"
      },
      "source": [
        "## 넘파이 ndarray 개요"
      ]
    },
    {
      "cell_type": "code",
      "metadata": {
        "id": "YrcV4DE_d8aN"
      },
      "source": [
        "import numpy as np"
      ],
      "execution_count": 1,
      "outputs": []
    },
    {
      "cell_type": "markdown",
      "metadata": {
        "id": "7sJ-GNG9eBbH"
      },
      "source": [
        "* 보통 as np를 추가해 약어로 모듈을 표현해주는 것이 관례입니다.\r\n",
        "\r\n",
        "*   항목 추가\r\n",
        "*   항목 추가\r\n",
        "\r\n",
        "\r\n",
        "* 넘파이 기반 데이터 타입은 ndarray입니다. ndarray를 이용해 넘파이에서 다차원(Multi-dimension) 배열을 쉽게 생성하고 다양한 연산을 수행할 수 있습니다."
      ]
    },
    {
      "cell_type": "code",
      "metadata": {
        "colab": {
          "base_uri": "https://localhost:8080/"
        },
        "id": "rYR08PleejIl",
        "outputId": "ff565f34-1648-46a7-f526-e74006b025c1"
      },
      "source": [
        "array1=np.array([1,2,3])\r\n",
        "\r\n",
        "array2=np.array([[1,2,3],\r\n",
        "                [4,5,6]])\r\n",
        "\r\n",
        "array3=np.array([[1,2,3]])\r\n",
        "\r\n",
        "print(\"array1의 shape : {}\".format(array1.shape)) # ndarray.shape을 이용해 차원과 크기확인\r\n",
        "\r\n",
        "print(\"array2의 shape : {}\".format(array2.shape))\r\n",
        "\r\n",
        "print(\"array3의 shape : {}\".format(array3.shape))"
      ],
      "execution_count": 2,
      "outputs": [
        {
          "output_type": "stream",
          "text": [
            "array1의 shape : (3,)\n",
            "array2의 shape : (2, 3)\n",
            "array3의 shape : (1, 3)\n"
          ],
          "name": "stdout"
        }
      ]
    },
    {
      "cell_type": "markdown",
      "metadata": {
        "id": "cIx_Qo5SfIik"
      },
      "source": [
        "* **np.array()**의 사용법은 매우 간단합니다. ndarray로 변환을 원하는 객체를 인자로 입력하면 ndarray를 반환합니다.\r\n",
        "\r\n",
        "* **ndarray.shape**는 ndarray의 차원과 크기를 튜플(tuple) 형태로 나타내 줍니다.\r\n",
        "\r\n",
        "* array1 과 array3의 데이터는 비슷해 보이지만 차이가 있습니다.\r\n",
        "    * array1 : 1차원 array로 3개의 데이터를 가지고 있음\r\n",
        "    * array3 : 1개의 row와 3개의 colum을 가지는 2차원 데이터를 가지고 있음\r\n",
        "\r\n",
        "* **이러한 차이를 이해하는 것은 매우 중요합니다. 머신러닝 알고리즘 데이터 세트 간의 입출력과 변환을 수행하다 보면 명확히 1차원 데이터 또는 다차원 데이터를 요구하는 경우가 있습니다.**\r\n",
        "\r\n",
        "* 데이터 값으로는 서로 동일하나 차원이 달라서 오류가 발생하는 경우가 종종 있으므로 이러한 차이를 인지하고 있어야 합니다.\r\n",
        "\r\n",
        "* 이제 각 array의 차원을 **ndarray.ndim**을 이용해 확인해 보겠습니다."
      ]
    },
    {
      "cell_type": "code",
      "metadata": {
        "colab": {
          "base_uri": "https://localhost:8080/"
        },
        "id": "V2turW11gxo5",
        "outputId": "9f7b7031-f9bd-4ab4-8d3c-a70b077a91d9"
      },
      "source": [
        "print('array1 : {}차원 ,array2 : {}차원 ,array3 : {}차원'.format(array1.ndim,array2.ndim,array3.ndim)) # ndarray.ndim을 이용해 차원확인"
      ],
      "execution_count": 3,
      "outputs": [
        {
          "output_type": "stream",
          "text": [
            "array1 : 1차원 ,array2 : 2차원 ,array3 : 2차원\n"
          ],
          "name": "stdout"
        }
      ]
    },
    {
      "cell_type": "markdown",
      "metadata": {
        "id": "boW6Ts6NhRxS"
      },
      "source": [
        "## ndarray의 데이터 타입"
      ]
    },
    {
      "cell_type": "markdown",
      "metadata": {
        "id": "srHTrEtLhXlT"
      },
      "source": [
        "* ndarray내의 데이터값은 숫자,문자열,boolean 모두 가능합니다.\r\n",
        "\r\n",
        "* **ndarray내의 데이터 타입은 그 연산의 특성상 같은 데이터 타입만 가능합니다.** 즉 , 한개의 ndarray 객체에 int와 float가 함께 있을 수 없습니다.\r\n",
        "\r\n",
        "* ndarray내의 데이터 타입은 **ndarray.dtype** 속성으로 확인할 수 있습니다."
      ]
    },
    {
      "cell_type": "code",
      "metadata": {
        "colab": {
          "base_uri": "https://localhost:8080/"
        },
        "id": "8OSJIE6IhWjN",
        "outputId": "d6a5331c-9078-4344-ba3b-f361142a866c"
      },
      "source": [
        "list1=[1,2,3]\r\n",
        "print(type(list1))\r\n",
        "array1=np.array(list1)\r\n",
        "print(type(array1))\r\n",
        "print(array1,array1.dtype) ## ndarray.dtype 을 통해 데이터 타입 확인"
      ],
      "execution_count": 4,
      "outputs": [
        {
          "output_type": "stream",
          "text": [
            "<class 'list'>\n",
            "<class 'numpy.ndarray'>\n",
            "[1 2 3] int64\n"
          ],
          "name": "stdout"
        }
      ]
    },
    {
      "cell_type": "markdown",
      "metadata": {
        "id": "gSXs4d50kCUn"
      },
      "source": [
        "\r\n",
        "* 서로 다른 데이터 타입을 가질 수 있는 리스트와는 다르게 ndarray 내의 데이터 타입은 그 연산의 특성상 같은 데이터 타입만 가능하다고 했는데,\r\n",
        "\r\n",
        "* 만약 다른 데이터 유형이 섞여 있는 리스트를 ndarray로 변경하면 데이터 크기가 더 **큰 데이터 타입으로 형 변환을 일괄 적용합니다.**"
      ]
    },
    {
      "cell_type": "code",
      "metadata": {
        "colab": {
          "base_uri": "https://localhost:8080/"
        },
        "id": "rQxSEr8SlArI",
        "outputId": "082f0d9d-122f-4ce5-d814-aab025455d45"
      },
      "source": [
        "list2=[1,2,'test']\r\n",
        "array2=np.array(list2)\r\n",
        "print(array2,array2.dtype)\r\n",
        "\r\n",
        "list3=[1,2,3.0]\r\n",
        "array3=np.array(list3)\r\n",
        "print(array3,array3.dtype)"
      ],
      "execution_count": 5,
      "outputs": [
        {
          "output_type": "stream",
          "text": [
            "['1' '2' 'test'] <U21\n",
            "[1. 2. 3.] float64\n"
          ],
          "name": "stdout"
        }
      ]
    },
    {
      "cell_type": "markdown",
      "metadata": {
        "id": "7bvkwdpElg0i"
      },
      "source": [
        "* **ndarray 내 데이터값의 타입 변경도 astype()** 메서드를 이용해 할 수 있습니다.\r\n",
        "\r\n",
        "* astype()에 인자로 원하는 타입을 문자열로 지정하면 됩니다.\r\n",
        "\r\n",
        "* 이렇게 데이터 타입을 변경하는 경우는 **대용량 데이터의 ndarray를 만들 때 많은 메모리가 사용되는데 , 메모리를 더 절약해야 할 때 보통 이용됩니다.**"
      ]
    },
    {
      "cell_type": "code",
      "metadata": {
        "colab": {
          "base_uri": "https://localhost:8080/"
        },
        "id": "cFLKa2ldl5SR",
        "outputId": "c3ea8b27-877b-4dc1-a01b-12c33f536893"
      },
      "source": [
        "array_int=np.array([1,2,3])\r\n",
        "array_float=array_int.astype('float64')\r\n",
        "print(array_float,array_float.dtype)"
      ],
      "execution_count": null,
      "outputs": [
        {
          "output_type": "stream",
          "text": [
            "[1. 2. 3.] float64\n"
          ],
          "name": "stdout"
        }
      ]
    },
    {
      "cell_type": "markdown",
      "metadata": {
        "id": "vIfomMRPl6Hw"
      },
      "source": [
        "\r\n",
        "## ndarray를 편리하게 생성하기 - **arange** , **zeros** , **ones**"
      ]
    },
    {
      "cell_type": "markdown",
      "metadata": {
        "id": "kq2M4d6dueFl"
      },
      "source": [
        "* 특정 크기와 차원을 가진 ndarray를 연속값이나 0 또는 1로 초기화해 쉽게 생성해야 할 필요가 있는 경우가 발생할 수 있습니다.\r\n",
        "\r\n",
        "* 이 경우 **arange() , zeros() , ones()**를 이용해 쉽게 ndarray를 생성할 수 있습니다.\r\n",
        "\r\n",
        "* 주로 테스트용으로 데이터를 만들거나 대규모의 데이터를 일괄적으로 초기화해야 할 경우에 사용됩니다.\r\n",
        "\r\n",
        "* zeros() , ones() 는 **함수 인자로 튜플 형태의 shape** 값을 입력하면 됩니다. 함수 인자로 dtype을 정해주지 않으면 default로 float64 형의 데이터로 ndarray를 채웁니다."
      ]
    },
    {
      "cell_type": "code",
      "metadata": {
        "colab": {
          "base_uri": "https://localhost:8080/"
        },
        "id": "YDddCX-KvHmS",
        "outputId": "db42b36b-db91-438f-b7fb-68edbdb901a8"
      },
      "source": [
        "sequence_array=np.arange(1,10)\r\n",
        "print(sequence_array)\r\n",
        "print(sequence_array.dtype,sequence_array.shape)\r\n",
        "\r\n",
        "zero_array=np.zeros((3,2))\r\n",
        "print(zero_array)\r\n",
        "print(zero_array.dtype,zero_array.shape)\r\n",
        "\r\n",
        "one_array=np.ones((3,2))\r\n",
        "print(one_array)\r\n",
        "print(one_array.dtype,one_array.shape)"
      ],
      "execution_count": null,
      "outputs": [
        {
          "output_type": "stream",
          "text": [
            "[1 2 3 4 5 6 7 8 9]\n",
            "int64 (9,)\n",
            "[[0. 0.]\n",
            " [0. 0.]\n",
            " [0. 0.]]\n",
            "float64 (3, 2)\n",
            "[[1. 1.]\n",
            " [1. 1.]\n",
            " [1. 1.]]\n",
            "float64 (3, 2)\n"
          ],
          "name": "stdout"
        }
      ]
    },
    {
      "cell_type": "markdown",
      "metadata": {
        "id": "2skWsT5Yv9Es"
      },
      "source": [
        "## ndarray의 차원과 크기를 변경하는 **reshape()**"
      ]
    },
    {
      "cell_type": "markdown",
      "metadata": {
        "id": "y77OU_mywhAf"
      },
      "source": [
        "* **reshape()** 메소드는 ndarray를 특정 차원 및 크기로 변환합니다.\r\n",
        "\r\n",
        "* **변환을 원하는 크기를 함수 인자로** 부여하면 됩니다.\r\n",
        "\r\n",
        "* 당연한 얘기지만 , reshape()는 지정된 사이즈로 변경이 불가능하면 오류를 발생합니다. 가령 (10,) 데이터를 (4,3) Shape 형태로 변경할 수는 없습니다.\r\n",
        "\r\n",
        "* reshape()를 실전에서 더욱 효율적으로 사용하는 경우는 아마도 인자로 -1을 적용하는 경우일 것입니다.\r\n",
        "\r\n",
        "* -1을 인자로 사용하면 원래 ndarray와 호환되는 새로운 shape로 변환해 줍니다."
      ]
    },
    {
      "cell_type": "code",
      "metadata": {
        "colab": {
          "base_uri": "https://localhost:8080/"
        },
        "id": "uD-o9bROv8t3",
        "outputId": "41b2020d-c817-43b0-87dc-f6d8ddd30c75"
      },
      "source": [
        "array1=np.arange(10)\r\n",
        "\r\n",
        "print(array1,end='\\n\\n')\r\n",
        "\r\n",
        "print(array1.reshape(2,5),end='\\n\\n')\r\n",
        "\r\n",
        "print(array1.reshape(5,2),end='\\n\\n')\r\n",
        "\r\n",
        "print(array1.reshape(2,-1),end='\\n\\n')\r\n",
        "\r\n",
        "print(array1.reshape(-1,2),end='\\n\\n')"
      ],
      "execution_count": null,
      "outputs": [
        {
          "output_type": "stream",
          "text": [
            "[0 1 2 3 4 5 6 7 8 9]\n",
            "\n",
            "[[0 1 2 3 4]\n",
            " [5 6 7 8 9]]\n",
            "\n",
            "[[0 1]\n",
            " [2 3]\n",
            " [4 5]\n",
            " [6 7]\n",
            " [8 9]]\n",
            "\n",
            "[[0 1 2 3 4]\n",
            " [5 6 7 8 9]]\n",
            "\n",
            "[[0 1]\n",
            " [2 3]\n",
            " [4 5]\n",
            " [6 7]\n",
            " [8 9]]\n",
            "\n"
          ],
          "name": "stdout"
        }
      ]
    },
    {
      "cell_type": "markdown",
      "metadata": {
        "id": "k1oVKV4Rx-5N"
      },
      "source": [
        "## 넘파이의 ndarray의 데이터 세트 선택하기 - **인덱싱(Indexing)**"
      ]
    },
    {
      "cell_type": "markdown",
      "metadata": {
        "id": "rBm7Tx1zDin_"
      },
      "source": [
        "* **단일 값 추출** : 1개의 데이터 값을 선택하려면 ndarray 객체에 해당하는 위치의 인덱스 값을 [ ]안에 입력하면 됩니다.\r\n",
        "\r\n",
        "  * 인덱스는 앞에서 부터 시작할 때는 0부터 시작하며\r\n",
        "  * 인덱스는 뒤에서 부터 시작할 때는 -1로 시작합니다.\r\n",
        "  * 다차원 배열의 추출은 array[idx1,idx2,idx3...] 이런식으로 접근하면 됩니다.\r\n",
        "\r\n",
        "* **슬라이싱** :  '__:__ '기호를 이용해 데이터를 슬라이싱 해서 추출할 수 있습니다.\r\n",
        "\r\n",
        "  * array[0:3] : idx 0 ~ 2 까지 데이터 추출\r\n",
        "  * array[0:3 , 0:3] : row idx 0 ~ 2 까지 데이터 추출 , col idx 0 ~ 2 까지 데이터 추출\r\n",
        "  * ':' 기호 앞에 인덱스를 생략하면 자동으로 맨 처음 인덱스인 0으로 간주\r\n",
        "  * ':' 기호 뒤에 인덱스를 생략하면 자동으로 맨 마지막 인덱스로 간주\r\n",
        "\r\n",
        "* **팬시 인덱싱** : 리스트나 ndarray로 인덱스 집합을 지정하면 해당 위치의 인덱스에 해당하는 ndarray를 반환하는 인덱싱 방식 \r\n",
        "\r\n",
        "* **불린 인덱싱** : Boolean Indexing은 조건 필터링과 검색을 동시에 할 수 있기 때문에 매우 자주 사용되는 인덱싱 방식입니다."
      ]
    },
    {
      "cell_type": "markdown",
      "metadata": {
        "id": "xceBAjR29Jz8"
      },
      "source": [
        "#### **팬시 인덱싱**\n",
        "\n",
        "* **리스트나 ndarray로 인덱스 집합을 지정하면** 해당 위치의 인덱스에 해당하는 ndarray를 반환하는 인덱싱 방식\n",
        "\n",
        "* 2차원 ndarray에 팬시 인덱싱을 적용하면서 이 기능이 어떻게 동작하는지 살펴보겠습니다."
      ]
    },
    {
      "cell_type": "code",
      "metadata": {
        "id": "hNfWBLBI4-6T",
        "colab": {
          "base_uri": "https://localhost:8080/"
        },
        "outputId": "67564820-bd37-45a9-b7f1-82783daf77a7"
      },
      "source": [
        "array1d=np.arange(1,10)\n",
        "array2d=array1d.reshape(3,3)\n",
        "\n",
        "array3=array2d[[0,1],2] # [0,2] , [1,2]에 해당되는 [3 6] 반환\n",
        "\n",
        "array4=array2d[[0,1],0:2] # [0,0] , [0,1] , [1,0] , [1,1]에 해당되는 값들 반환\n",
        "\n",
        "array5=array2d[[0,1]] # [0:],[1:]에 해당되는 값들 반환\n",
        "\n",
        "print(array3)\n",
        "print(array4)\n",
        "print(array5)"
      ],
      "execution_count": null,
      "outputs": [
        {
          "output_type": "stream",
          "text": [
            "[3 6]\n",
            "[[1 2]\n",
            " [4 5]]\n",
            "[[1 2 3]\n",
            " [4 5 6]]\n"
          ],
          "name": "stdout"
        }
      ]
    },
    {
      "cell_type": "markdown",
      "metadata": {
        "id": "odb9taDZ_dm4"
      },
      "source": [
        "#### **불린 인덱싱**\n",
        "\n",
        "* 불린 인덱싱(Boolean indexing)은 조건 필터링과 검색을 동시에 할 수 있기 때문에 매우 자주 사용되는 인덱싱 방식\n",
        "\n",
        "* 불린 인덱싱은 ndarray의 인덱스를 지정하는 [  ] 내에 조건문을 그대로 기재하기만 하면 됨"
      ]
    },
    {
      "cell_type": "code",
      "metadata": {
        "colab": {
          "base_uri": "https://localhost:8080/"
        },
        "id": "MplyHTWE9ELM",
        "outputId": "530a0a21-836f-45e7-b721-a5bc58b00453"
      },
      "source": [
        "array1d = np.arange(1,10)\n",
        "array3=array1d[array1d>5]\n",
        "print(\"array1d > 5 불린 인덱싱 결과 : {}\".format(array3))\n",
        "print(array1d>5)"
      ],
      "execution_count": null,
      "outputs": [
        {
          "output_type": "stream",
          "text": [
            "array1d > 5 불린 인덱싱 결과 : [6 7 8 9]\n",
            "[False False False False False  True  True  True  True]\n"
          ],
          "name": "stdout"
        }
      ]
    },
    {
      "cell_type": "markdown",
      "metadata": {
        "id": "asO_QfLB5JuD"
      },
      "source": [
        "## 행렬의 정렬 - sort()와 argsort()"
      ]
    },
    {
      "cell_type": "markdown",
      "metadata": {
        "id": "pdw0N8E08t9r"
      },
      "source": [
        "### 행렬 정렬\r\n",
        "\r\n",
        "* 넘파이에서 행렬을 정렬하는 대표적인 방법인 **np.sort()**와 **ndarray.sort()** , 그리고 정렬된 행렬의 인덱스를 반환하는 argsort()에 대해서 알아보겠습니다.\r\n",
        "\r\n",
        "* 넘파이의 행렬 정렬은 np.sort()와 같은 넘파이에서 sort()를 호출하는 방식과 ndarray.sort()와 같이 행렬 자체에서 sort()를 호출하는 방식이 있습니다.\r\n",
        "\r\n",
        "  * **np.sort()**의 경우 원 행렬은 그대로 유지한 채 원 행렬의 정렬된 행렬을 반환합니다.\r\n",
        "\r\n",
        "  * **ndarray.sort()**는 원 행렬 자체를 정렬한 형태로 변환하며 반환 값은 None 입니다."
      ]
    },
    {
      "cell_type": "code",
      "metadata": {
        "colab": {
          "base_uri": "https://localhost:8080/"
        },
        "id": "_01_VyGj6xi-",
        "outputId": "b466bc63-62a2-443e-bdad-cb6fd5cd64ba"
      },
      "source": [
        "org_array=np.array([3,1,9,5])\r\n",
        "\r\n",
        "sort_array1=np.sort(org_array) # 정렬된 배열을 반환\r\n",
        "\r\n",
        "org_array.sort() # 배열 자체를 정렬 시킴\r\n",
        "\r\n",
        "print(sort_array1)\r\n",
        "print(org_array)"
      ],
      "execution_count": null,
      "outputs": [
        {
          "output_type": "stream",
          "text": [
            "[1 3 5 9]\n",
            "[1 3 5 9]\n"
          ],
          "name": "stdout"
        }
      ]
    },
    {
      "cell_type": "code",
      "metadata": {
        "colab": {
          "base_uri": "https://localhost:8080/"
        },
        "id": "YuQPHEZ0ATrN",
        "outputId": "4887a223-d607-484b-996b-fe6cdc0c6215"
      },
      "source": [
        "array2d=np.array([[8,12],\r\n",
        "                  [7,1]])\r\n",
        "\r\n",
        "sort_array2d_axis0=np.sort(array2d,axis=0) # row 방향으로 정렬\r\n",
        "\r\n",
        "sort_array2d_axis1=np.sort(array2d,axis=1) # colum 방향으로 정렬\r\n",
        "\r\n",
        "print(sort_array2d_axis0)\r\n",
        "print(sort_array2d_axis1)"
      ],
      "execution_count": null,
      "outputs": [
        {
          "output_type": "stream",
          "text": [
            "[[ 7  1]\n",
            " [ 8 12]]\n",
            "[[ 8 12]\n",
            " [ 1  7]]\n"
          ],
          "name": "stdout"
        }
      ]
    },
    {
      "cell_type": "markdown",
      "metadata": {
        "id": "-bA8PaPX-Yeo"
      },
      "source": [
        "### 정렬된 행렬의 인덱스를 반환하기\r\n",
        "\r\n",
        "* 원본 행렬이 정렬되었을 때 **기존 원본 행렬의 원소에 대한 인덱스를 필요로 할 때 np.argsort()를 이용합니다.**\r\n",
        "\r\n",
        "* **np.argsort()**는 정렬 행렬의 원본 행렬 인덱스를 ndarray 형으로 반환합니다.\r\n"
      ]
    },
    {
      "cell_type": "code",
      "metadata": {
        "colab": {
          "base_uri": "https://localhost:8080/"
        },
        "id": "fro-yc24Apev",
        "outputId": "58477d0f-b807-43ba-9b3d-60b541e95955"
      },
      "source": [
        "org_array=np.array([3,1,9,5])\r\n",
        "sort_indices=np.argsort(org_array)\r\n",
        "print(type(sort_indices))\r\n",
        "print(\"행렬 정렬 시 원본 행렬의 인덱스 : {}\".format(sort_indices))"
      ],
      "execution_count": null,
      "outputs": [
        {
          "output_type": "stream",
          "text": [
            "<class 'numpy.ndarray'>\n",
            "행렬 정렬 시 원본 행렬의 인덱스 : [1 0 3 2]\n"
          ],
          "name": "stdout"
        }
      ]
    },
    {
      "cell_type": "markdown",
      "metadata": {
        "id": "hAcuTJ-tCFg6"
      },
      "source": [
        "* **argsort()는 넘파이에서 매우 활용도가 높습니다.**\r\n",
        "\r\n",
        "* 넘파이의 ndarray는 RDBMS의 TABLE 칼럼이나 뒤에 소개할 Pandas DataFrame 칼럼과 같은 메타 데이터를 가질 수 없습니다.\r\n",
        "\r\n",
        "* 따라서 실제 값과 그 값이 뜻하는 메타 데이터를 별도의 ndarray로 각각 가져야만 합니다.\r\n",
        "\r\n",
        "* 예를 들어 학생별 시험 성적을 데이터로 표현하기 위해서는 학생의 이름과 시험 성적을 각각 ndarray로 가져야 합니다.(2개의 ndarray가 필요)\r\n",
        "\r\n",
        "* 이 때 시험 성적순으로 학생 이름을 출력하고자 한다면 np.argsort(score_array)를 이용해 반환된 인덱스를 name_array에 팬시 인덱스로 적용해 추출할 수 있으며 , 이러한 방식은 넘파이의 데이터 추출에서 많이 사용됩니다."
      ]
    },
    {
      "cell_type": "code",
      "metadata": {
        "colab": {
          "base_uri": "https://localhost:8080/"
        },
        "id": "gEcbbhUqCGUi",
        "outputId": "d1e5ca3d-8345-4ec1-8181-8afda2f9b610"
      },
      "source": [
        "name_array=np.array(['John','Mike','Sarah','Kate','Samuel'])\r\n",
        "score_array=np.array([78,95,84,98,88])\r\n",
        "\r\n",
        "sort_indices_asc=np.argsort(score_array)\r\n",
        "\r\n",
        "print('성적 오름차순으로 name 출력 : {}'.format(name_array[sort_indices_asc]))"
      ],
      "execution_count": null,
      "outputs": [
        {
          "output_type": "stream",
          "text": [
            "성적 오름차순으로 name 출력 : ['John' 'Sarah' 'Samuel' 'Mike' 'Kate']\n"
          ],
          "name": "stdout"
        }
      ]
    },
    {
      "cell_type": "markdown",
      "metadata": {
        "id": "NL4QjExh6dN-"
      },
      "source": [
        "## 선형대수 연산 - 행렬 내적과 전치 행렬 구하기\r\n",
        "\r\n",
        "* 넘파이는 매우 다양한 선형대수 연산을 지원합니다.\r\n",
        "\r\n",
        "* 그중 가장 많이 사용되면서도 기본 연산인 **행렬 내적**과 **전치 행렬**을 구하는 방법을 알아보겠습니다."
      ]
    },
    {
      "cell_type": "markdown",
      "metadata": {
        "id": "3NTK-tgM7Ok0"
      },
      "source": [
        "### 행렬 내적\r\n",
        "* 행렬 내적(행렬 곱) : 두 행렬 A와 B의 내적은 **np.dot()**을 이용해 계산이 가능합니다."
      ]
    },
    {
      "cell_type": "code",
      "metadata": {
        "colab": {
          "base_uri": "https://localhost:8080/"
        },
        "id": "ZHfv73ak6x9F",
        "outputId": "bf591259-a3fc-409f-8868-edd2ed4b120b"
      },
      "source": [
        "A=np.array([[1,2,3],\r\n",
        "            [4,5,6]])\r\n",
        "\r\n",
        "B=np.array([[7,8],\r\n",
        "            [9,10],\r\n",
        "            [11,12]])\r\n",
        "\r\n",
        "C=np.dot(A,B)\r\n",
        "\r\n",
        "print(C)"
      ],
      "execution_count": null,
      "outputs": [
        {
          "output_type": "stream",
          "text": [
            "[[ 58  64]\n",
            " [139 154]]\n"
          ],
          "name": "stdout"
        }
      ]
    },
    {
      "cell_type": "markdown",
      "metadata": {
        "id": "iizwuxCA7ynT"
      },
      "source": [
        "### 전치 행렬\r\n",
        "* 원 행렬에서 행과 열 위치를 교환한 원소로 구성한 행렬을 그 행렬의 전치 행렬이라고 합니다.\r\n",
        "\r\n",
        "* **np.transepose()**를 이용해 전치 행렬을 쉽게 구할 수 있습니다."
      ]
    },
    {
      "cell_type": "code",
      "metadata": {
        "colab": {
          "base_uri": "https://localhost:8080/"
        },
        "id": "9cR_cQdO8YOq",
        "outputId": "d8285b06-6ea6-4ad5-981b-8b42c0db1e84"
      },
      "source": [
        "A=np.array([[1,2,3],\r\n",
        "            [4,5,6]])\r\n",
        "\r\n",
        "A_t=np.transpose(A)\r\n",
        "\r\n",
        "print(A_t)"
      ],
      "execution_count": null,
      "outputs": [
        {
          "output_type": "stream",
          "text": [
            "[[1 4]\n",
            " [2 5]\n",
            " [3 6]]\n"
          ],
          "name": "stdout"
        }
      ]
    },
    {
      "cell_type": "markdown",
      "metadata": {
        "id": "UiSSq7dtGUoE"
      },
      "source": [
        "# Method 정리\r\n",
        "\r\n",
        "#### 1. np.ndarray()\r\n",
        "\r\n",
        "#### 2. ndarray.shape\r\n",
        "\r\n",
        "#### 3. ndarray.ndim\r\n",
        "\r\n",
        "#### 4. ndarray.dtype\r\n",
        "\r\n",
        "#### 5. ndarray.astype('dtype')\r\n",
        "\r\n",
        "#### 6. np.arange(tuple) , np.zeros(tuple) , np.ones(tuple) , default = float64\r\n",
        "\r\n",
        "#### 7. ndarray.reshape(tuple)\r\n",
        "\r\n",
        "#### 8. np.sort(ndarray) , ndarray.sort()\r\n",
        "\r\n",
        "#### 9. np.argsort(ndarray)\r\n",
        "\r\n",
        "#### 10. np.dot(ndarray1 , ndarray2)\r\n",
        "\r\n",
        "#### 11. np.transpose(ndarray)"
      ]
    }
  ]
}